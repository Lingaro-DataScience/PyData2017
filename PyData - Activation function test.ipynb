{
 "cells": [
  {
   "cell_type": "code",
   "execution_count": null,
   "metadata": {
    "collapsed": false,
    "deletable": true,
    "editable": true
   },
   "outputs": [],
   "source": [
    "import tensorflow as tf\n",
    "import time\n",
    "from tensorflow.examples.tutorials.mnist import input_data\n",
    "mnist = input_data.read_data_sets('MNIST_data', one_hot=True, reshape=False)"
   ]
  },
  {
   "cell_type": "code",
   "execution_count": null,
   "metadata": {
    "collapsed": false,
    "deletable": true,
    "editable": true
   },
   "outputs": [],
   "source": [
    "mnist.train.num_examples"
   ]
  },
  {
   "cell_type": "code",
   "execution_count": null,
   "metadata": {
    "collapsed": false,
    "deletable": true,
    "editable": true
   },
   "outputs": [],
   "source": [
    "X = tf.placeholder(tf.float32, [None, 28, 28, 1])\n",
    "Y_ = tf.placeholder(tf.float32, [None, 10])"
   ]
  },
  {
   "cell_type": "code",
   "execution_count": null,
   "metadata": {
    "collapsed": false,
    "deletable": true,
    "editable": true
   },
   "outputs": [],
   "source": [
    "a=[]\n",
    "L = 500\n",
    "# Weights initialised with small random values between -0.2 and +0.2\n",
    "W1 = tf.Variable(tf.truncated_normal([784, L], stddev=0.1))  # 784 = 28 * 28\n",
    "B1 = tf.Variable(tf.zeros([L]))\n",
    "W5 = tf.Variable(tf.truncated_normal([L, 10], stddev=0.1))\n",
    "B5 = tf.Variable(tf.zeros([10]))\n",
    "\n",
    "# The model\n",
    "XX = tf.reshape(X, [-1, 784])\n",
    "Y1 = tf.nn.sigmoid(tf.matmul(XX, W1) + B1)\n",
    "Ylogits = tf.matmul(Y1, W5) + B5\n",
    "Y = tf.nn.softmax(Ylogits)\n",
    "\n",
    "cross_entropy = tf.nn.softmax_cross_entropy_with_logits(logits=Ylogits, labels=Y_)\n",
    "cross_entropy = tf.reduce_mean(cross_entropy)*100\n",
    "\n",
    "# accuracy of the trained model, between 0 (worst) and 1 (best)\n",
    "correct_prediction = tf.equal(tf.argmax(Y, 1), tf.argmax(Y_, 1))\n",
    "accuracy = tf.reduce_mean(tf.cast(correct_prediction, tf.float32))\n",
    "\n",
    "# training step, learning rate = 0.0001\n",
    "learning_rate = 0.0001\n",
    "train_step = tf.train.AdamOptimizer(learning_rate).minimize(cross_entropy)\n",
    "\n",
    "init = tf.global_variables_initializer()\n",
    "sess = tf.Session()\n",
    "sess.run(init)\n",
    "\n",
    "#results collection\n",
    "for i in range(55000):\n",
    "  start_time = time.time()  \n",
    "  batch = mnist.train.next_batch(100)\n",
    "  sess.run(train_step,{X: batch[0], Y_: batch[1]})\n",
    "  train_accuracy = sess.run(accuracy, {X: batch[0], Y_: batch[1]})\n",
    "  test_accuracy = sess.run(accuracy, {X: mnist.test.images[0:2000], Y_: mnist.test.labels[0:2000]})\n",
    "  final_time = time.time() - start_time\n",
    "  a.append([\"sigmoid\",i,train_accuracy,test_accuracy,final_time])\n",
    "  if i%100==0: print(i)\n",
    "\n",
    "print(\"DONE\")\n",
    "\n",
    "import numpy as np\n",
    "np.savetxt(fname='xxx', X=a, delimiter=',', fmt=\"%s\")"
   ]
  },
  {
   "cell_type": "code",
   "execution_count": null,
   "metadata": {
    "collapsed": false,
    "deletable": true,
    "editable": true
   },
   "outputs": [],
   "source": [
    "a=[]\n",
    "L = 500\n",
    "# Weights initialised with small random values between -0.2 and +0.2\n",
    "W1 = tf.Variable(tf.truncated_normal([784, L], stddev=0.1))  # 784 = 28 * 28\n",
    "B1 = tf.Variable(tf.zeros([L]))\n",
    "W5 = tf.Variable(tf.truncated_normal([L, 10], stddev=0.1))\n",
    "B5 = tf.Variable(tf.zeros([10]))\n",
    "\n",
    "# The model\n",
    "XX = tf.reshape(X, [-1, 784])\n",
    "Y1 = tf.nn.tanh(tf.matmul(XX, W1) + B1)\n",
    "Ylogits = tf.matmul(Y1, W5) + B5\n",
    "Y = tf.nn.softmax(Ylogits)\n",
    "\n",
    "cross_entropy = tf.nn.softmax_cross_entropy_with_logits(logits=Ylogits, labels=Y_)\n",
    "cross_entropy = tf.reduce_mean(cross_entropy)*100\n",
    "\n",
    "# accuracy of the trained model, between 0 (worst) and 1 (best)\n",
    "correct_prediction = tf.equal(tf.argmax(Y, 1), tf.argmax(Y_, 1))\n",
    "accuracy = tf.reduce_mean(tf.cast(correct_prediction, tf.float32))\n",
    "\n",
    "# training step, learning rate = 0.0001\n",
    "learning_rate = 0.0001\n",
    "train_step = tf.train.AdamOptimizer(learning_rate).minimize(cross_entropy)\n",
    "\n",
    "init = tf.global_variables_initializer()\n",
    "sess = tf.Session()\n",
    "sess.run(init)\n",
    "\n",
    "#results collection\n",
    "for i in range(55000):\n",
    "  start_time = time.time()  \n",
    "  batch = mnist.train.next_batch(100)\n",
    "  sess.run(train_step,{X: batch[0], Y_: batch[1]})\n",
    "  train_accuracy = sess.run(accuracy, {X: batch[0], Y_: batch[1]})\n",
    "  test_accuracy = sess.run(accuracy, {X: mnist.test.images[0:2000], Y_: mnist.test.labels[0:2000]})\n",
    "  final_time = time.time() - start_time\n",
    "  a.append([\"tanh\",i,train_accuracy,test_accuracy,final_time])\n",
    "  if i%100==0: print(i)\n",
    "\n",
    "print(\"DONE\")\n",
    "\n",
    "import numpy as np\n",
    "np.savetxt(fname='xxx', X=a, delimiter=',', fmt=\"%s\")"
   ]
  },
  {
   "cell_type": "code",
   "execution_count": null,
   "metadata": {
    "collapsed": false,
    "deletable": true,
    "editable": true
   },
   "outputs": [],
   "source": [
    "a=[]\n",
    "L = 500\n",
    "# Weights initialised with small random values between -0.2 and +0.2\n",
    "W1 = tf.Variable(tf.truncated_normal([784, L], stddev=0.1))  # 784 = 28 * 28\n",
    "B1 = tf.Variable(tf.zeros([L]))\n",
    "W5 = tf.Variable(tf.truncated_normal([L, 10], stddev=0.1))\n",
    "B5 = tf.Variable(tf.zeros([10]))\n",
    "\n",
    "# The model\n",
    "XX = tf.reshape(X, [-1, 784])\n",
    "Y1 = tf.nn.relu(tf.matmul(XX, W1) + B1)\n",
    "Ylogits = tf.matmul(Y1, W5) + B5\n",
    "Y = tf.nn.softmax(Ylogits)\n",
    "\n",
    "cross_entropy = tf.nn.softmax_cross_entropy_with_logits(logits=Ylogits, labels=Y_)\n",
    "cross_entropy = tf.reduce_mean(cross_entropy)*100\n",
    "\n",
    "# accuracy of the trained model, between 0 (worst) and 1 (best)\n",
    "correct_prediction = tf.equal(tf.argmax(Y, 1), tf.argmax(Y_, 1))\n",
    "accuracy = tf.reduce_mean(tf.cast(correct_prediction, tf.float32))\n",
    "\n",
    "# training step, learning rate = 0.0001\n",
    "learning_rate = 0.0001\n",
    "train_step = tf.train.AdamOptimizer(learning_rate).minimize(cross_entropy)\n",
    "\n",
    "init = tf.global_variables_initializer()\n",
    "sess = tf.Session()\n",
    "sess.run(init)\n",
    "\n",
    "#results collection\n",
    "for i in range(55000):\n",
    "  start_time = time.time()  \n",
    "  batch = mnist.train.next_batch(100)\n",
    "  sess.run(train_step,{X: batch[0], Y_: batch[1]})\n",
    "  train_accuracy = sess.run(accuracy, {X: batch[0], Y_: batch[1]})\n",
    "  test_accuracy = sess.run(accuracy, {X: mnist.test.images[0:2000], Y_: mnist.test.labels[0:2000]})\n",
    "  final_time = time.time() - start_time\n",
    "  a.append([\"relu\",i,train_accuracy,test_accuracy,final_time])\n",
    "  if i%100==0: print(i)\n",
    "\n",
    "print(\"DONE\")\n",
    "\n",
    "import numpy as np\n",
    "np.savetxt(fname='xxx', X=a, delimiter=',', fmt=\"%s\")"
   ]
  }
 ],
 "metadata": {
  "kernelspec": {
   "display_name": "Python 3",
   "language": "python",
   "name": "python3"
  },
  "language_info": {
   "codemirror_mode": {
    "name": "ipython",
    "version": 3
   },
   "file_extension": ".py",
   "mimetype": "text/x-python",
   "name": "python",
   "nbconvert_exporter": "python",
   "pygments_lexer": "ipython3",
   "version": "3.5.3"
  }
 },
 "nbformat": 4,
 "nbformat_minor": 2
}
